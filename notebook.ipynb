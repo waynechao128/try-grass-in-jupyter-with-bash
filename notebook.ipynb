{
 "cells": [
  {
   "cell_type": "markdown",
   "metadata": {},
   "source": [
    "# Try GRASS GIS in Jupyter Notebook with Bash\n",
    "\n",
    "[<img src=\"https://grass.osgeo.org/uploads/images/logo/grassgis_logo_colorlogo_text_alphabg.png\" alt=\"GRASS GIS\" style=\"width:200px;\"/>](https://grass.osgeo.org/)\n",
    "\n",
    "This is a quick introduction into *GRASS GIS* in a *Jupyter Notebook* using a *Bash* command line.\n",
    "The interactive notebook is available online thanks to the [*Binder*](https://mybinder.org/) service.\n",
    "\n",
    "The GRASS GIS is already running in the background, so you can\n",
    "execute GRASS GIS commands (modules) right away.\n",
    "Examples here are using a sample GRASS GIS dataset for North Carolina, USA.\n",
    "The dataset is included in this environment.\n",
    "\n",
    "## Usage\n",
    "\n",
    "To run the selected part which is called a cell, hit `Shift + Enter`.\n",
    "\n",
    "## Session  and configuration\n",
    "\n",
    "There is several ways how GRASS GIS can be used. When you start GRASS GIS on a desktop,\n",
    "besides grapical user intrface (GUI), you can also a command line (CLI).\n",
    "This would be typically Bash on Linux other other similar systems.\n",
    "In this command line, you would be able to execute GRASS GIS commands (modules)\n",
    "which are only available within GRASS GIS session.\n",
    "This notebook is already running inside a GRASS GIS session which is connected\n",
    "to a database containing the dataset mentioned above.\n",
    "In addition to it, we set here several variables useful for using GRASS GIS in a notebook."
   ]
  },
  {
   "cell_type": "code",
   "execution_count": 1,
   "metadata": {},
   "outputs": [
    {
     "name": "stdout",
     "output_type": "stream",
     "text": [
      "\n"
     ]
    }
   ],
   "source": [
    "# simply overwrite existing maps like we overwrite Python variable values\n",
    "export GRASS_OVERWRITE=1\n",
    "# enable map rendering to in Jupyter Notebook\n",
    "export GRASS_FONT=sans\n",
    "# set display modules to render into a file (named map.png by default)\n",
    "export GRASS_RENDER_IMMEDIATE=cairo\n",
    "export GRASS_RENDER_FILE_READ=TRUE\n",
    "export GRASS_LEGEND_FILE=legend.txt"
   ]
  },
  {
   "cell_type": "markdown",
   "metadata": {},
   "source": [
    "## Raster buffer\n",
    "\n",
    "Set computational region and create multiple buffers in given distances\n",
    "around lakes represented as raster:"
   ]
  },
  {
   "cell_type": "code",
   "execution_count": 2,
   "metadata": {},
   "outputs": [
    {
     "name": "stdout",
     "output_type": "stream",
     "text": [
      "projection=99\r\n",
      "zone=0\r\n",
      "n=228500\r\n",
      "s=215000\r\n",
      "w=630000\r\n",
      "e=645000\r\n",
      "nsres=10\r\n",
      "ewres=10\r\n",
      "rows=1350\r\n",
      "cols=1500\r\n",
      "cells=2025000\r\n",
      "Reading input raster map <lakes@PERMANENT>...\r\n",
      "   0%\b\b\b\b\b   3%\b\b\b\b\b   6%\b\b\b\b\b   9%\b\b\b\b\b  12%\b\b\b\b\b  15%\b\b\b\b\b  18%\b\b\b\b\b  21%\b\b\b\b\b  24%\b\b\b\b\b  27%\b\b\b\b\b  30%\b\b\b\b\b  33%\b\b\b\b\b  36%\b\b\b\b\b  39%\b\b\b\b\b  42%\b\b\b\b\b  45%\b\b\b\b\b  48%\b\b\b\b\b  51%\b\b\b\b\b  54%\b\b\b\b\b  57%\b\b\b\b\b  60%\b\b\b\b\b  63%\b\b\b\b\b  66%\b\b\b\b\b  69%\b\b\b\b\b  72%\b\b\b\b\b  75%\b\b\b\b\b  78%\b\b\b\b\b  81%\b\b\b\b\b  84%\b\b\b\b\b  87%\b\b\b\b\b  90%\b\b\b\b\b  93%\b\b\b\b\b  96%\b\b\b\b\b  99%\b\b\b\b\b 100%\b\b\b\b\b\r\n",
      "Finding buffer zones...\r\n",
      "   0%\b\b\b\b\b   3%\b\b\b\b\b   6%\b\b\b\b\b   9%\b\b\b\b\b  12%\b\b\b\b\b  15%\b\b\b\b\b  18%\b\b\b\b\b  21%\b\b\b\b\b  24%\b\b\b\b\b  27%\b\b\b\b\b  30%\b\b\b\b\b  33%\b\b\b\b\b  36%\b\b\b\b\b  39%\b\b\b\b\b  42%\b\b\b\b\b  45%\b\b\b\b\b  48%\b\b\b\b\b  51%\b\b\b\b\b  54%\b\b\b\b\b  57%\b\b\b\b\b  60%\b\b\b\b\b  63%\b\b\b\b\b  66%\b\b\b\b\b  69%\b\b\b\b\b  72%\b\b\b\b\b  75%\b\b\b\b\b  78%\b\b\b\b\b  81%\b\b\b\b\b  84%\b\b\b\b\b  87%\b\b\b\b\b  90%\b\b\b\b\b  93%\b\b\b\b\b  96%\b\b\b\b\b  99%\b\b\b\b\b 100%\b\b\b\b\b\r\n",
      "Writing output raster map <lakes_buff>...\r\n",
      "   0%\b\b\b\b\b   3%\b\b\b\b\b   6%\b\b\b\b\b   9%\b\b\b\b\b  12%\b\b\b\b\b  15%\b\b\b\b\b  18%\b\b\b\b\b  21%\b\b\b\b\b  24%\b\b\b\b\b  27%\b\b\b\b\b  30%\b\b\b\b\b  33%\b\b\b\b\b  36%\b\b\b\b\b  39%\b\b\b\b\b  42%\b\b\b\b\b  45%\b\b\b\b\b  48%\b\b\b\b\b  51%\b\b\b\b\b  54%\b\b\b\b\b  57%\b\b\b\b\b  60%\b\b\b\b\b  63%\b\b\b\b\b  66%\b\b\b\b\b  69%\b\b\b\b\b  72%\b\b\b\b\b  75%\b\b\b\b\b  78%\b\b\b\b\b  81%\b\b\b\b\b  84%\b\b\b\b\b  87%\b\b\b\b\b  90%\b\b\b\b\b  93%\b\b\b\b\b  96%\b\b\b\b\b  99%\b\b\b\b\b 100%\b\b\b\b\b\r\n",
      "   0%\b\b\b\b\b   3%\b\b\b\b\b   6%\b\b\b\b\b   9%\b\b\b\b\b  12%\b\b\b\b\b  15%\b\b\b\b\b  18%\b\b\b\b\b  21%\b\b\b\b\b  24%\b\b\b\b\b  27%\b\b\b\b\b  30%\b\b\b\b\b  33%\b\b\b\b\b  36%\b\b\b\b\b  39%\b\b\b\b\b  42%\b\b\b\b\b  45%\b\b\b\b\b  48%\b\b\b\b\b  51%\b\b\b\b\b  54%\b\b\b\b\b  57%\b\b\b\b\b  60%\b\b\b\b\b  63%\b\b\b\b\b  66%\b\b\b\b\b  69%\b\b\b\b\b  72%\b\b\b\b\b  75%\b\b\b\b\b  78%\b\b\b\b\b  81%\b\b\b\b\b  84%\b\b\b\b\b  87%\b\b\b\b\b  90%\b\b\b\b\b  93%\b\b\b\b\b  96%\b\b\b\b\b  99%\b\b\b\b\b 100%\b\b\b\b\b\r\n",
      "\n"
     ]
    }
   ],
   "source": [
    "g.region raster=lakes -pg\n",
    "r.buffer input=lakes output=lakes_buff distances=60,120,240,500\n",
    "d.erase\n",
    "d.rast map=lakes_buff\n",
    "d.legend raster=lakes_buff range=2,5 at=80,100,2,10"
   ]
  },
  {
   "cell_type": "code",
   "execution_count": 3,
   "metadata": {},
   "outputs": [
    {
     "data": {
      "text/html": [
       "<img src=\"map.png\">"
      ],
      "text/plain": [
       "<IPython.core.display.HTML object>"
      ]
     },
     "metadata": {},
     "output_type": "display_data"
    },
    {
     "name": "stdout",
     "output_type": "stream",
     "text": [
      "\n"
     ]
    }
   ],
   "source": [
    "%html <img src=\"map.png\">\n",
    "# you may need to reload the page\n",
    "# when you render a new image to update it"
   ]
  },
  {
   "cell_type": "markdown",
   "metadata": {},
   "source": [
    "## Vector buffer\n",
    "\n",
    "Create a negative buffer around state boundary represented as a vector.\n",
    "Vector modules typically don't follow computational region,\n",
    "but we set it to inform display modules about our area of interest."
   ]
  },
  {
   "cell_type": "code",
   "execution_count": 4,
   "metadata": {},
   "outputs": [
    {
     "name": "stdout",
     "output_type": "stream",
     "text": [
      "Buffering areas...\r\n",
      "  12%\b\b\b\b\b  25%\b\b\b\b\bWARNING: No coordinates in GEOS geometry (can be ok for negative distance)!\r\n",
      "\u0007  37%\b\b\b\b\bWARNING: No coordinates in GEOS geometry (can be ok for negative distance)!\r\n",
      "\u0007  50%\b\b\b\b\bWARNING: No coordinates in GEOS geometry (can be ok for negative distance)!\r\n",
      "\u0007  62%\b\b\b\b\bWARNING: No coordinates in GEOS geometry (can be ok for negative distance)!\r\n",
      "\u0007  75%\b\b\b\b\bWARNING: No coordinates in GEOS geometry (can be ok for negative distance)!\r\n",
      "\u0007  87%\b\b\b\b\bWARNING: No coordinates in GEOS geometry (can be ok for negative distance)!\r\n",
      "\u0007 100%\b\b\b\b\b\r\n",
      "WARNING: No coordinates in GEOS geometry (can be ok for negative distance)!\r\n",
      "\u0007Cleaning buffers...\r\n",
      "Building parts of topology...\r\n",
      "Building topology for vector map <buffer@user1>...\r\n",
      "Registering primitives...\r\n",
      "2 primitives registered\r\n",
      "1588 vertices registered\r\n",
      "Number of nodes: 2\r\n",
      "Number of primitives: 2\r\n",
      "Number of points: 0\r\n",
      "Number of lines: 0\r\n",
      "Number of boundaries: 2\r\n",
      "Number of centroids: 0\r\n",
      "Number of areas: -\r\n",
      "Number of isles: -\r\n",
      "Snapping boundaries...\r\n",
      "Reading features...\r\n",
      "Snap vertices Pass 1: select points\r\n",
      "   0%\b\b\b\b\b  50%\b\b\b\b\b 100%\b\b\b\b\b\r\n",
      "Snap vertices Pass 2: assign anchor vertices\r\n",
      "   4%\b\b\b\b\b   9%\b\b\b\b\b  14%\b\b\b\b\b  19%\b\b\b\b\b  24%\b\b\b\b\b  29%\b\b\b\b\b  34%\b\b\b\b\b  39%\b\b\b\b\b  44%\b\b\b\b\b  49%\b\b\b\b\b  54%\b\b\b\b\b  59%\b\b\b\b\b  64%\b\b\b\b\b  69%\b\b\b\b\b  74%\b\b\b\b\b  79%\b\b\b\b\b  84%\b\b\b\b\b  89%\b\b\b\b\b  94%\b\b\b\b\b  99%\b\b\b\b\b 100%\b\b\b\b\b\r\n",
      "Snap vertices Pass 3: snap to assigned points\r\n",
      "   0%\b\b\b\b\b  50%\b\b\b\b\b 100%\b\b\b\b\b\r\n",
      "Breaking polygons...\r\n",
      "Breaking polygons (pass 1: select break points)...\r\n",
      "  50%\b\b\b\b\b 100%\b\b\b\b\b\r\n",
      "Breaking polygons (pass 2: break at selected points)...\r\n",
      "  50%\b\b\b\b\b 100%\b\b\b\b\b\r\n",
      "Removing duplicates...\r\n",
      "  50%\b\b\b\b\b 100%\b\b\b\b\b\r\n",
      "Breaking boundaries...\r\n",
      "   0%\b\b\b\b\b  50%\b\b\b\b\b 100%\b\b\b\b\b\r\n",
      "Removing duplicates...\r\n",
      "  50%\b\b\b\b\b 100%\b\b\b\b\b\r\n",
      "Cleaning boundaries at nodes\r\n",
      "  50%\b\b\b\b\b 100%\b\b\b\b\b\r\n",
      "Building topology for vector map <buffer@user1>...\r\n",
      "Building areas...\r\n",
      "   0%\b\b\b\b\b  50%\b\b\b\b\b 100%\b\b\b\b\b\r\n",
      "2 areas built\r\n",
      "2 isles built\r\n",
      "Number of nodes: 2\r\n",
      "Number of primitives: 2\r\n",
      "Number of points: 0\r\n",
      "Number of lines: 0\r\n",
      "Number of boundaries: 2\r\n",
      "Number of centroids: 0\r\n",
      "Number of areas: 2\r\n",
      "Number of isles: 2\r\n",
      "Removing dangles...\r\n",
      "  50%\b\b\b\b\b 100%\b\b\b\b\b\r\n",
      "Removing bridges...\r\n",
      "  50%\b\b\b\b\b 100%\b\b\b\b\b\r\n",
      "Attaching islands...\r\n",
      "Building topology for vector map <buffer@user1>...\r\n",
      "Attaching islands...\r\n",
      "  50%\b\b\b\b\b 100%\b\b\b\b\b\r\n",
      "Number of nodes: 2\r\n",
      "Number of primitives: 2\r\n",
      "Number of points: 0\r\n",
      "Number of lines: 0\r\n",
      "Number of boundaries: 2\r\n",
      "Number of centroids: 0\r\n",
      "Number of areas: 2\r\n",
      "Number of isles: 2\r\n",
      "Calculating centroids for all areas...\r\n",
      "   0%\b\b\b\b\b  50%\b\b\b\b\b 100%\b\b\b\b\b\r\n",
      "Generating list of boundaries to be deleted...\r\n",
      "  50%\b\b\b\b\b 100%\b\b\b\b\b\r\n",
      "Deleting boundaries...\r\n",
      "  50%\b\b\b\b\b 100%\b\b\b\b\b\r\n",
      "Calculating centroids for areas...\r\n",
      "  50%\b\b\b\b\b 100%\b\b\b\b\b\r\n",
      "Building topology for vector map <buffer@user1>...\r\n",
      "Registering primitives...\r\n",
      "4 primitives registered\r\n",
      "1590 vertices registered\r\n",
      "Building areas...\r\n",
      "   0%\b\b\b\b\b  25%\b\b\b\b\b  50%\b\b\b\b\b  75%\b\b\b\b\b 100%\b\b\b\b\b\r\n",
      "2 areas built\r\n",
      "2 isles built\r\n",
      "Attaching islands...\r\n",
      "  50%\b\b\b\b\b 100%\b\b\b\b\b\r\n",
      "Attaching centroids...\r\n",
      "  25%\b\b\b\b\b  50%\b\b\b\b\b  75%\b\b\b\b\b 100%\b\b\b\b\b\r\n",
      "Number of nodes: 2\r\n",
      "Number of primitives: 4\r\n",
      "Number of points: 0\r\n",
      "Number of lines: 0\r\n",
      "Number of boundaries: 2\r\n",
      "Number of centroids: 2\r\n",
      "Number of areas: 2\r\n",
      "Number of isles: 2\r\n",
      "projection=99\r\n",
      "zone=0\r\n",
      "n=318103.28572304\r\n",
      "s=10824.78389381\r\n",
      "w=124454.32432894\r\n",
      "e=930005.85064856\r\n",
      "nsres=9.99995124\r\n",
      "ewres=10.00001895\r\n",
      "rows=30728\r\n",
      "cols=80555\r\n",
      "cells=2475294040\r\n",
      "d.vect complete.\r\n",
      "d.vect complete.\r\n",
      "\n"
     ]
    }
   ],
   "source": [
    "v.buffer input=boundary_state output=buffer distance=-10000\n",
    "g.region vector=boundary_state -pg\n",
    "# we need to use a unique name for every image because web browser caches images by name\n",
    "export GRASS_RENDER_FILE=vector.png\n",
    "d.erase  # erase the display before drawing again\n",
    "rm -f $GRASS_LEGEND_FILE  # and remove the legend file\n",
    "d.vect map=boundary_state fill_color=\"#5A91ED\", legend_label=\"State boundary\"\n",
    "d.vect map=buffer fill_color=\"#F8766D\" legend_label=\"Inner portion\"\n",
    "d.legend.vect at=10,35"
   ]
  },
  {
   "cell_type": "code",
   "execution_count": 5,
   "metadata": {},
   "outputs": [
    {
     "data": {
      "text/html": [
       "<img src=\"vector.png\">"
      ],
      "text/plain": [
       "<IPython.core.display.HTML object>"
      ]
     },
     "metadata": {},
     "output_type": "display_data"
    }
   ],
   "source": [
    "%html <img src=\"vector.png\">"
   ]
  },
  {
   "cell_type": "markdown",
   "metadata": {},
   "source": [
    "### testing las data import and clip"
   ]
  },
  {
   "cell_type": "code",
   "execution_count": null,
   "metadata": {},
   "outputs": [],
   "source": [
    "las2las points.las --output points_clip.las \\\n",
    "    --extent \"2090835 730212 2092347 731322\""
   ]
  },
  {
   "cell_type": "code",
   "execution_count": null,
   "metadata": {},
   "outputs": [],
   "source": [
    "7zr a points.las.7z points.las"
   ]
  },
  {
   "cell_type": "markdown",
   "metadata": {},
   "source": [
    "## Testing import imagery and compress it"
   ]
  },
  {
   "cell_type": "markdown",
   "metadata": {},
   "source": [
    "### Orthophoto"
   ]
  },
  {
   "cell_type": "markdown",
   "metadata": {},
   "source": [
    "#### the geotiff was imported as ortho object"
   ]
  },
  {
   "cell_type": "code",
   "execution_count": 8,
   "metadata": {},
   "outputs": [
    {
     "name": "stdout",
     "output_type": "stream",
     "text": [
      "WARNING: Projection of dataset does not appear to match current location.\r\n",
      "\r\n",
      "         Location PROJ_INFO is:\r\n",
      "         name: Lambert Conformal Conic\r\n",
      "         proj: lcc\r\n",
      "         datum: nad83\r\n",
      "         a: 6378137.0\r\n",
      "         es: 0.006694380022900787\r\n",
      "         lat_1: 36.16666666666666\r\n",
      "         lat_2: 34.33333333333334\r\n",
      "         lat_0: 33.75\r\n",
      "         lon_0: -79\r\n",
      "         x_0: 609601.22\r\n",
      "         y_0: 0\r\n",
      "         no_defs: defined\r\n",
      "\r\n",
      "         Dataset PROJ_INFO is:\r\n",
      "         name: WGS 84 / UTM zone 12N\r\n",
      "         datum: wgs84\r\n",
      "         ellps: wgs84\r\n",
      "         proj: utm\r\n",
      "         zone: 12\r\n",
      "         no_defs: defined\r\n",
      "\r\n",
      "         ERROR: proj\r\n",
      "\r\n",
      "         In case of no significant differences in the projection\r\n",
      "         definitions, use the -o flag to ignore them and use current\r\n",
      "         location definition.\r\n",
      "         Consider generating a new location from the input dataset using\r\n",
      "         the 'location' parameter.\r\n",
      "\u0007Importing raster map <ortho>...\r\n",
      "   0%\b\b\b\b\b   3%\b\b\b\b\b   6%\b\b\b\b\b   9%\b\b\b\b\b  12%\b\b\b\b\b  15%\b\b\b\b\b  18%\b\b\b\b\b  21%\b\b\b\b\b  24%\b\b\b\b\b  27%\b\b\b\b\b  30%\b\b\b\b\b  33%\b\b\b\b\b  36%\b\b\b\b\b  39%\b\b\b\b\b  42%\b\b\b\b\b  45%\b\b\b\b\b  48%\b\b\b\b\b  51%\b\b\b\b\b  54%\b\b\b\b\b  57%\b\b\b\b\b  60%\b\b\b\b\b  63%\b\b\b\b\b  66%\b\b\b\b\b  69%\b\b\b\b\b  72%\b\b\b\b\b  75%\b\b\b\b\b  78%\b\b\b\b\b  81%\b\b\b\b\b  84%\b\b\b\b\b  87%\b\b\b\b\b  90%\b\b\b\b\b  93%\b\b\b\b\b  96%\b\b\b\b\b  99%\b\b\b\b\b 100%\b\b\b\b\b\r\n",
      "Estimated target resolution for input band <ortho>: 4.28058123441\r\n",
      "Reprojecting <ortho>...\r\n",
      "\n"
     ]
    }
   ],
   "source": [
    "r.import input=ChilloweLakeObjectLC.tif output=ortho"
   ]
  },
  {
   "cell_type": "markdown",
   "metadata": {},
   "source": [
    "#### The ortophoto raster map in GRASS GIS was compressed using BZIP2:"
   ]
  },
  {
   "cell_type": "code",
   "execution_count": 9,
   "metadata": {
    "scrolled": true
   },
   "outputs": [
    {
     "name": "stdout",
     "output_type": "stream",
     "text": [
      "Re-compressing <ortho>\r\n",
      "   0%\b\b\b\b\b   3%\b\b\b\b\b   6%\b\b\b\b\b   9%\b\b\b\b\b  12%\b\b\b\b\b  15%\b\b\b\b\b  18%\b\b\b\b\b  21%\b\b\b\b\b  24%\b\b\b\b\b  27%\b\b\b\b\b  30%\b\b\b\b\b  33%\b\b\b\b\b  36%\b\b\b\b\b  39%\b\b\b\b\b  42%\b\b\b\b\b  45%\b\b\b\b\b  48%\b\b\b\b\b  51%\b\b\b\b\b  54%\b\b\b\b\b  57%\b\b\b\b\b  60%\b\b\b\b\b  63%\b\b\b\b\b  66%\b\b\b\b\b  69%\b\b\b\b\b  72%\b\b\b\b\b  75%\b\b\b\b\b  78%\b\b\b\b\b  81%\b\b\b\b\b  84%\b\b\b\b\b  87%\b\b\b\b\b  90%\b\b\b\b\b  93%\b\b\b\b\b  96%\b\b\b\b\b  99%\b\b\b\b\bDONE: compressed file is 18 KB (14.63%) larger\r\n",
      "\n"
     ]
    }
   ],
   "source": [
    "GRASS_COMPRESSOR=BZIP2 r.compress map=ortho"
   ]
  },
  {
   "cell_type": "markdown",
   "metadata": {},
   "source": [
    "#### and exported in (native) GRASS GIS pack format:"
   ]
  },
  {
   "cell_type": "code",
   "execution_count": 10,
   "metadata": {
    "scrolled": true
   },
   "outputs": [
    {
     "name": "stdout",
     "output_type": "stream",
     "text": [
      "WARNING: Pack file </home/jovyan/ortho.grpack> already exists and will be\r\n",
      "         overwritten\r\n",
      "\u0007Packing <ortho@user1> to </home/jovyan/ortho.grpack>...\r\n",
      "\n"
     ]
    }
   ],
   "source": [
    "r.pack input=ortho output=ortho.grpack"
   ]
  },
  {
   "cell_type": "markdown",
   "metadata": {},
   "source": [
    "### Unpack a raster package"
   ]
  },
  {
   "cell_type": "code",
   "execution_count": 12,
   "metadata": {},
   "outputs": [
    {
     "name": "stdout",
     "output_type": "stream",
     "text": [
      "WARNING: Raster map <Newortho> already exists and will be overwritten\r\n",
      "\u0007WARNING: Overriding projection check (using current location's projection).\r\n",
      "\u0007Raster map <Newortho> unpacked\r\n",
      "\n"
     ]
    }
   ],
   "source": [
    "r.unpack input=ortho.grpack output=Newortho -o"
   ]
  },
  {
   "cell_type": "code",
   "execution_count": 6,
   "metadata": {
    "scrolled": false
   },
   "outputs": [
    {
     "name": "stdout",
     "output_type": "stream",
     "text": [
      "WARNING: Difference between PROJ_INFO file of packed map and of current\r\n",
      "         location:\r\n",
      "         + name: Lambert Conformal Conic\r\n",
      "         - name: unnamed\r\n",
      "         - ellps: grs80\r\n",
      "         proj: lcc\r\n",
      "         + datum: nad83\r\n",
      "         + a: 6378137.0\r\n",
      "         + es: 0.006694380022900787\r\n",
      "         lat_1: 36.16666666666666\r\n",
      "         lat_2: 34.33333333333334\r\n",
      "         lat_0: 33.75\r\n",
      "         lon_0: -79\r\n",
      "         - x_0: 609601.2192024384\r\n",
      "         ? -- ------\r\n",
      "         + x_0: 609601.22\r\n",
      "         y_0: 0\r\n",
      "         no_defs: defined\r\n",
      "\u0007WARNING: Difference between PROJ_UNITS file of packed map and of current\r\n",
      "         location:\r\n",
      "         - unit: Foot_US\r\n",
      "         - units: Foot_USs\r\n",
      "         - meters: 0.3048006096012192\r\n",
      "         + unit: Meter\r\n",
      "         + units: Meters\r\n",
      "         + meters: 1\r\n",
      "\u0007ERROR: Projection of dataset does not appear to match current location. In\r\n",
      "       case of no significant differences in the projection definitions,\r\n",
      "       use the -o flag to ignore them and use current location definition.\r\n",
      "\u0007\n"
     ]
    }
   ],
   "source": [
    " r.unpack input=NCortho.grpack output=NCortho"
   ]
  },
  {
   "cell_type": "markdown",
   "metadata": {},
   "source": [
    "## Zones"
   ]
  },
  {
   "cell_type": "markdown",
   "metadata": {},
   "source": [
    "#### Manually selected and digitized polygons for zonal analysis were exported from GRASS GIS in a (native) ASCII format using:"
   ]
  },
  {
   "cell_type": "code",
   "execution_count": null,
   "metadata": {},
   "outputs": [],
   "source": [
    "v.out.ascii input=zones layer=-1 type=boundary,centroid \\\n",
    "    format=standard precision=2 output=zones.txt"
   ]
  },
  {
   "cell_type": "markdown",
   "metadata": {},
   "source": [
    "#### Trailing spaces were removed using:"
   ]
  },
  {
   "cell_type": "code",
   "execution_count": null,
   "metadata": {},
   "outputs": [],
   "source": [
    "sed -i 's/\\s*$//g' zones.txt\n",
    "The header was edited and cleaned up manually."
   ]
  }
 ],
 "metadata": {
  "kernelspec": {
   "display_name": "Calysto Bash",
   "language": "bash",
   "name": "calysto_bash"
  },
  "language_info": {
   "file_extension": ".sh",
   "help_links": [
    {
     "text": "MetaKernel Magics",
     "url": "https://metakernel.readthedocs.io/en/latest/source/README.html"
    }
   ],
   "mimetype": "text/x-sh",
   "name": "bash",
   "version": "0.2.2"
  }
 },
 "nbformat": 4,
 "nbformat_minor": 1
}
