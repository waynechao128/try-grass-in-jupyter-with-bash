{
 "cells": [
  {
   "cell_type": "markdown",
   "metadata": {},
   "source": [
    "# Try GRASS GIS in Jupyter Notebook with Bash\n",
    "\n",
    "[<img src=\"https://grass.osgeo.org/uploads/images/logo/grassgis_logo_colorlogo_text_alphabg.png\" alt=\"GRASS GIS\" style=\"width:200px;\"/>](https://grass.osgeo.org/)\n",
    "\n",
    "This is a quick introduction into *GRASS GIS* in a *Jupyter Notebook* using a *Bash* command line.\n",
    "The interactive notebook is available online thanks to the [*Binder*](https://mybinder.org/) service.\n",
    "\n",
    "The GRASS GIS is already running in the background, so you can\n",
    "execute GRASS GIS commands (modules) right away.\n",
    "Examples here are using a sample GRASS GIS dataset for North Carolina, USA.\n",
    "The dataset is included in this environment.\n",
    "\n",
    "## Usage\n",
    "\n",
    "To run the selected part which is called a cell, hit `Shift + Enter`.\n",
    "\n",
    "## Session  and configuration\n",
    "\n",
    "There is several ways how GRASS GIS can be used. When you start GRASS GIS on a desktop,\n",
    "besides grapical user intrface (GUI), you can also a command line (CLI).\n",
    "This would be typically Bash on Linux other other similar systems.\n",
    "In this command line, you would be able to execute GRASS GIS commands (modules)\n",
    "which are only available within GRASS GIS session.\n",
    "This notebook is already running inside a GRASS GIS session which is connected\n",
    "to a database containing the dataset mentioned above.\n",
    "In addition to it, we set here several variables useful for using GRASS GIS in a notebook."
   ]
  },
  {
   "cell_type": "code",
   "execution_count": 3,
   "metadata": {},
   "outputs": [
    {
     "name": "stdout",
     "output_type": "stream",
     "text": [
      "\n"
     ]
    }
   ],
   "source": [
    "# simply overwrite existing maps like we overwrite Python variable values\n",
    "export GRASS_OVERWRITE=1\n",
    "# enable map rendering to in Jupyter Notebook\n",
    "export GRASS_FONT=sans\n",
    "# set display modules to render into a file (named map.png by default)\n",
    "export GRASS_RENDER_IMMEDIATE=cairo\n",
    "export GRASS_RENDER_FILE_READ=TRUE\n",
    "export GRASS_LEGEND_FILE=legend.txt"
   ]
  },
  {
   "cell_type": "markdown",
   "metadata": {},
   "source": [
    "## Raster buffer\n",
    "\n",
    "Set computational region and create multiple buffers in given distances\n",
    "around lakes represented as raster:"
   ]
  },
  {
   "cell_type": "code",
   "execution_count": null,
   "metadata": {},
   "outputs": [],
   "source": [
    "g.region raster=lakes -pg\n",
    "r.buffer input=lakes output=lakes_buff distances=60,120,240,500\n",
    "d.erase\n",
    "d.rast map=lakes_buff\n",
    "d.legend raster=lakes_buff range=2,5 at=80,100,2,10"
   ]
  },
  {
   "cell_type": "code",
   "execution_count": null,
   "metadata": {},
   "outputs": [],
   "source": [
    "%html <img src=\"map.png\">\n",
    "# you may need to reload the page\n",
    "# when you render a new image to update it"
   ]
  },
  {
   "cell_type": "markdown",
   "metadata": {},
   "source": [
    "## Vector buffer\n",
    "\n",
    "Create a negative buffer around state boundary represented as a vector.\n",
    "Vector modules typically don't follow computational region,\n",
    "but we set it to inform display modules about our area of interest."
   ]
  },
  {
   "cell_type": "code",
   "execution_count": null,
   "metadata": {},
   "outputs": [],
   "source": [
    "v.buffer input=boundary_state output=buffer distance=-10000\n",
    "g.region vector=boundary_state -pg\n",
    "# we need to use a unique name for every image because web browser caches images by name\n",
    "export GRASS_RENDER_FILE=vector.png\n",
    "d.erase  # erase the display before drawing again\n",
    "rm -f $GRASS_LEGEND_FILE  # and remove the legend file\n",
    "d.vect map=boundary_state fill_color=\"#5A91ED\", legend_label=\"State boundary\"\n",
    "d.vect map=buffer fill_color=\"#F8766D\" legend_label=\"Inner portion\"\n",
    "d.legend.vect at=10,35"
   ]
  },
  {
   "cell_type": "code",
   "execution_count": 2,
   "metadata": {},
   "outputs": [
    {
     "data": {
      "text/html": [
       "<img src=\"vector.png\">"
      ],
      "text/plain": [
       "<IPython.core.display.HTML object>"
      ]
     },
     "metadata": {},
     "output_type": "display_data"
    }
   ],
   "source": [
    "%html <img src=\"vector.png\">"
   ]
  },
  {
   "cell_type": "markdown",
   "metadata": {},
   "source": [
    "### testing las data import and clip"
   ]
  },
  {
   "cell_type": "code",
   "execution_count": null,
   "metadata": {},
   "outputs": [],
   "source": [
    "las2las points.las --output points_clip.las \\\n",
    "    --extent \"2090835 730212 2092347 731322\""
   ]
  },
  {
   "cell_type": "code",
   "execution_count": null,
   "metadata": {},
   "outputs": [],
   "source": [
    "7zr a points.las.7z points.las"
   ]
  },
  {
   "cell_type": "markdown",
   "metadata": {},
   "source": [
    "## Testing import imagery and compress it"
   ]
  },
  {
   "cell_type": "markdown",
   "metadata": {},
   "source": [
    "### Orthophoto"
   ]
  },
  {
   "cell_type": "markdown",
   "metadata": {},
   "source": [
    "#### the geotiff was imported as ortho object"
   ]
  },
  {
   "cell_type": "code",
   "execution_count": 4,
   "metadata": {},
   "outputs": [
    {
     "name": "stdout",
     "output_type": "stream",
     "text": [
      "WARNING: Projection of dataset does not appear to match current location.\r\n",
      "\r\n",
      "         Location PROJ_INFO is:\r\n",
      "         name: Lambert Conformal Conic\r\n",
      "         proj: lcc\r\n",
      "         datum: nad83\r\n",
      "         a: 6378137.0\r\n",
      "         es: 0.006694380022900787\r\n",
      "         lat_1: 36.16666666666666\r\n",
      "         lat_2: 34.33333333333334\r\n",
      "         lat_0: 33.75\r\n",
      "         lon_0: -79\r\n",
      "         x_0: 609601.22\r\n",
      "         y_0: 0\r\n",
      "         no_defs: defined\r\n",
      "\r\n",
      "         Dataset PROJ_INFO is:\r\n",
      "         name: WGS 84 / UTM zone 12N\r\n",
      "         datum: wgs84\r\n",
      "         ellps: wgs84\r\n",
      "         proj: utm\r\n",
      "         zone: 12\r\n",
      "         no_defs: defined\r\n",
      "\r\n",
      "         ERROR: proj\r\n",
      "\r\n",
      "         In case of no significant differences in the projection\r\n",
      "         definitions, use the -o flag to ignore them and use current\r\n",
      "         location definition.\r\n",
      "         Consider generating a new location from the input dataset using\r\n",
      "         the 'location' parameter.\r\n",
      "\u0007Importing raster map <ortho>...\r\n",
      "   0%\b\b\b\b\b   3%\b\b\b\b\b   6%\b\b\b\b\b   9%\b\b\b\b\b  12%\b\b\b\b\b  15%\b\b\b\b\b  18%\b\b\b\b\b  21%\b\b\b\b\b  24%\b\b\b\b\b  27%\b\b\b\b\b  30%\b\b\b\b\b  33%\b\b\b\b\b  36%\b\b\b\b\b  39%\b\b\b\b\b  42%\b\b\b\b\b  45%\b\b\b\b\b  48%\b\b\b\b\b  51%\b\b\b\b\b  54%\b\b\b\b\b  57%\b\b\b\b\b  60%\b\b\b\b\b  63%\b\b\b\b\b  66%\b\b\b\b\b  69%\b\b\b\b\b  72%\b\b\b\b\b  75%\b\b\b\b\b  78%\b\b\b\b\b  81%\b\b\b\b\b  84%\b\b\b\b\b  87%\b\b\b\b\b  90%\b\b\b\b\b  93%\b\b\b\b\b  96%\b\b\b\b\b  99%\b\b\b\b\b 100%\b\b\b\b\b\r\n",
      "Estimated target resolution for input band <ortho>: 4.28058123441\r\n",
      "Reprojecting <ortho>...\r\n",
      "\n"
     ]
    }
   ],
   "source": [
    "r.import input=ChilloweLakeObjectLC.tif output=ortho"
   ]
  },
  {
   "cell_type": "markdown",
   "metadata": {},
   "source": [
    "#### The ortophoto raster map in GRASS GIS was compressed using BZIP2:"
   ]
  },
  {
   "cell_type": "code",
   "execution_count": 5,
   "metadata": {
    "scrolled": true
   },
   "outputs": [
    {
     "name": "stdout",
     "output_type": "stream",
     "text": [
      "Re-compressing <ortho>\r\n",
      "   0%\b\b\b\b\b   3%\b\b\b\b\b   6%\b\b\b\b\b   9%\b\b\b\b\b  12%\b\b\b\b\b  15%\b\b\b\b\b  18%\b\b\b\b\b  21%\b\b\b\b\b  24%\b\b\b\b\b  27%\b\b\b\b\b  30%\b\b\b\b\b  33%\b\b\b\b\b  36%\b\b\b\b\b  39%\b\b\b\b\b  42%\b\b\b\b\b  45%\b\b\b\b\b  48%\b\b\b\b\b  51%\b\b\b\b\b  54%\b\b\b\b\b  57%\b\b\b\b\b  60%\b\b\b\b\b  63%\b\b\b\b\b  66%\b\b\b\b\b  69%\b\b\b\b\b  72%\b\b\b\b\b  75%\b\b\b\b\b  78%\b\b\b\b\b  81%\b\b\b\b\b  84%\b\b\b\b\b  87%\b\b\b\b\b  90%\b\b\b\b\b  93%\b\b\b\b\b  96%\b\b\b\b\b  99%\b\b\b\b\bDONE: compressed file is 18 KB (14.63%) larger\r\n",
      "\n"
     ]
    }
   ],
   "source": [
    "GRASS_COMPRESSOR=BZIP2 r.compress map=ortho"
   ]
  },
  {
   "cell_type": "markdown",
   "metadata": {},
   "source": [
    "#### and exported in (native) GRASS GIS pack format:"
   ]
  },
  {
   "cell_type": "code",
   "execution_count": 6,
   "metadata": {},
   "outputs": [
    {
     "name": "stdout",
     "output_type": "stream",
     "text": [
      "Packing <ortho@user1> to </home/jovyan/ortho.grpack>...\r\n",
      "\n"
     ]
    }
   ],
   "source": [
    "r.pack input=ortho output=ortho.grpack"
   ]
  },
  {
   "cell_type": "markdown",
   "metadata": {},
   "source": [
    "## Zones"
   ]
  },
  {
   "cell_type": "markdown",
   "metadata": {},
   "source": [
    "#### Manually selected and digitized polygons for zonal analysis were exported from GRASS GIS in a (native) ASCII format using:"
   ]
  },
  {
   "cell_type": "code",
   "execution_count": null,
   "metadata": {},
   "outputs": [],
   "source": [
    "v.out.ascii input=zones layer=-1 type=boundary,centroid \\\n",
    "    format=standard precision=2 output=zones.txt"
   ]
  },
  {
   "cell_type": "markdown",
   "metadata": {},
   "source": [
    "#### Trailing spaces were removed using:"
   ]
  },
  {
   "cell_type": "code",
   "execution_count": null,
   "metadata": {},
   "outputs": [],
   "source": [
    "sed -i 's/\\s*$//g' zones.txt\n",
    "The header was edited and cleaned up manually."
   ]
  }
 ],
 "metadata": {
  "kernelspec": {
   "display_name": "Calysto Bash",
   "language": "bash",
   "name": "calysto_bash"
  },
  "language_info": {
   "file_extension": ".sh",
   "help_links": [
    {
     "text": "MetaKernel Magics",
     "url": "https://metakernel.readthedocs.io/en/latest/source/README.html"
    }
   ],
   "mimetype": "text/x-sh",
   "name": "bash",
   "version": "0.2.2"
  }
 },
 "nbformat": 4,
 "nbformat_minor": 1
}
